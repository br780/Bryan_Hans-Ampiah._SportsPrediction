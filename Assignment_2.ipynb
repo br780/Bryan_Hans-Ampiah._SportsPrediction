{
 "cells": [
  {
   "cell_type": "code",
   "execution_count": 1,
   "id": "0a8e6bff",
   "metadata": {},
   "outputs": [],
   "source": [
    "import pandas as pd\n",
    "import numpy as np"
   ]
  },
  {
   "cell_type": "code",
   "execution_count": 2,
   "id": "7e36e9fc",
   "metadata": {},
   "outputs": [
    {
     "name": "stderr",
     "output_type": "stream",
     "text": [
      "C:\\Users\\DELL\\AppData\\Local\\Temp\\ipykernel_24428\\2840436576.py:1: DtypeWarning: Columns (108) have mixed types. Specify dtype option on import or set low_memory=False.\n",
      "  players = pd.read_csv('male_players(legacy).csv')\n",
      "C:\\Users\\DELL\\AppData\\Local\\Temp\\ipykernel_24428\\2840436576.py:2: DtypeWarning: Columns (25,108) have mixed types. Specify dtype option on import or set low_memory=False.\n",
      "  legacy = pd.read_csv('players_22-1.csv')\n"
     ]
    }
   ],
   "source": [
    "players = pd.read_csv('male_players(legacy).csv')\n",
    "legacy = pd.read_csv('players_22-1.csv')"
   ]
  },
  {
   "cell_type": "code",
   "execution_count": 3,
   "id": "ba22c551",
   "metadata": {},
   "outputs": [],
   "source": [
    "from sklearn.impute import SimpleImputer\n",
    "from sklearn.ensemble import RandomForestRegressor, GradientBoostingRegressor\n",
    "from sklearn.tree import DecisionTreeRegressor\n",
    "from sklearn.metrics import mean_squared_error, r2_score, mean_absolute_error\n",
    "from sklearn.model_selection import GridSearchCV\n",
    "from sklearn.model_selection import train_test_split,cross_val_score\n",
    "from sklearn.preprocessing import StandardScaler"
   ]
  },
  {
   "cell_type": "code",
   "execution_count": 4,
   "id": "9a3ddb8e",
   "metadata": {},
   "outputs": [],
   "source": [
    "def cleaning_data(dataset):\n",
    "    missing = []\n",
    "    less_missing = []\n",
    "    for i in dataset.columns:\n",
    "        if((dataset[i].isnull().sum())< (0.2*(dataset.shape[0]))):\n",
    "            missing.append(i)\n",
    "        else:\n",
    "            less_missing.append(i)\n",
    "    dataset = dataset[missing]\n",
    "    numerical_data = dataset.select_dtypes(include=np.number)\n",
    "    numerical_data.fillna(numerical_data.mean(), inplace= True)\n",
    "    return numerical_data"
   ]
  },
  {
   "cell_type": "code",
   "execution_count": 5,
   "id": "7088ab4e",
   "metadata": {},
   "outputs": [],
   "source": [
    "legacy = cleaning_data(legacy)\n",
    "players = cleaning_data(players)"
   ]
  },
  {
   "cell_type": "code",
   "execution_count": 6,
   "id": "42eb7719",
   "metadata": {},
   "outputs": [],
   "source": [
    "def correlation(dataset):\n",
    "    correlation_matrix = dataset.corr()\n",
    "    print(correlation_matrix['overall'].sort_values(ascending=False))\n",
    "    features = correlation_matrix.index[abs(correlation_matrix['overall']) > 0.3].tolist()\n",
    "    features.remove('overall')\n",
    "    \n",
    "    return features"
   ]
  },
  {
   "cell_type": "code",
   "execution_count": 7,
   "id": "cc8ec3ab",
   "metadata": {},
   "outputs": [
    {
     "name": "stdout",
     "output_type": "stream",
     "text": [
      "overall                           1.000000\n",
      "movement_reactions                0.845753\n",
      "potential                         0.695362\n",
      "passing                           0.632617\n",
      "wage_eur                          0.608711\n",
      "value_eur                         0.563962\n",
      "dribbling                         0.563384\n",
      "attacking_short_passing           0.499757\n",
      "mentality_vision                  0.493282\n",
      "international_reputation          0.485234\n",
      "skill_long_passing                0.483808\n",
      "power_shot_power                  0.480297\n",
      "physic                            0.476732\n",
      "age                               0.458390\n",
      "skill_ball_control                0.457011\n",
      "shooting                          0.448143\n",
      "skill_curve                       0.415863\n",
      "power_long_shots                  0.409086\n",
      "mentality_aggression              0.398310\n",
      "attacking_crossing                0.396833\n",
      "skill_fk_accuracy                 0.387269\n",
      "attacking_volleys                 0.377048\n",
      "skill_dribbling                   0.369827\n",
      "power_stamina                     0.360025\n",
      "power_strength                    0.350786\n",
      "mentality_positioning             0.350178\n",
      "attacking_heading_accuracy        0.340029\n",
      "mentality_penalties               0.334488\n",
      "skill_moves                       0.330951\n",
      "attacking_finishing               0.326376\n",
      "mentality_interceptions           0.314282\n",
      "defending                         0.301999\n",
      "power_jumping                     0.275578\n",
      "defending_marking_awareness       0.274173\n",
      "movement_agility                  0.263671\n",
      "defending_standing_tackle         0.250624\n",
      "defending_sliding_tackle          0.220398\n",
      "weak_foot                         0.217422\n",
      "movement_sprint_speed             0.208990\n",
      "movement_acceleration             0.194625\n",
      "pace                              0.173856\n",
      "weight_kg                         0.140015\n",
      "movement_balance                  0.099129\n",
      "club_contract_valid_until_year    0.071756\n",
      "fifa_version                      0.047487\n",
      "height_cm                         0.044415\n",
      "goalkeeping_positioning          -0.004731\n",
      "goalkeeping_handling             -0.010862\n",
      "goalkeeping_reflexes             -0.011783\n",
      "goalkeeping_diving               -0.013603\n",
      "goalkeeping_kicking              -0.015521\n",
      "nationality_id                   -0.093951\n",
      "league_id                        -0.151611\n",
      "club_team_id                     -0.177489\n",
      "club_jersey_number               -0.186287\n",
      "league_level                     -0.220234\n",
      "player_id                        -0.368772\n",
      "fifa_update                            NaN\n",
      "Name: overall, dtype: float64\n"
     ]
    }
   ],
   "source": [
    "features = correlation(players)\n",
    "X = players[features]\n",
    "y = players['overall']\n",
    "\n",
    "\n",
    "scaler = StandardScaler()\n",
    "X_scale = scaler.fit_transform(X)\n",
    "\n",
    "imputer = SimpleImputer(strategy='median')\n",
    "X_imputed = imputer.fit_transform(X_scale)"
   ]
  },
  {
   "cell_type": "code",
   "execution_count": 8,
   "id": "62512e1d",
   "metadata": {},
   "outputs": [],
   "source": [
    "X_train, X_test, y_train, y_test = train_test_split(X_imputed, y, test_size=0.2, random_state=42)"
   ]
  },
  {
   "cell_type": "code",
   "execution_count": 9,
   "id": "acfa9810",
   "metadata": {},
   "outputs": [],
   "source": [
    "# Define the models\n",
    "def training(X_train, y_train):\n",
    "    models = {\n",
    "        'RandomForest': RandomForestRegressor(n_estimators=100, random_state=42),\n",
    "        'GradientBoosting': GradientBoostingRegressor(n_estimators=100, random_state=42),\n",
    "        'DecisionTreeRegressor': DecisionTreeRegressor(random_state=42)\n",
    "    }\n",
    "    # Train models and perform cross-validation\n",
    "    for name, model in models.items():\n",
    "        cv_scores = cross_val_score(model, X_train, y_train, cv=5, scoring='neg_mean_squared_error')\n",
    "        cv_rmse_scores = np.sqrt(-cv_scores)\n",
    "        print(f'{name} - Cross-Validation RMSE Scores: {cv_rmse_scores}')\n",
    "        print(f'{name} - Average Cross-Validation RMSE: {cv_rmse_scores.mean()}')\n",
    "        \n",
    "    # Train the model on the full training data\n",
    "        model.fit(X_train, y_train)\n",
    "        print(f'{name} trained.')\n",
    "        \n",
    "        y_pred = model.predict(X_test)\n",
    "        RMSE = np.sqrt(mean_squared_error(y_test,y_pred))\n",
    "        print(f'{name} Test RMSE: {RMSE}.')\n",
    "        \n",
    "    return models\n"
   ]
  },
  {
   "cell_type": "code",
   "execution_count": 10,
   "id": "52a3c0c6",
   "metadata": {},
   "outputs": [],
   "source": [
    "def hyperparameter_tuning(model):\n",
    "    # Hyperparameter tuning using GridSearchCV\n",
    "    if isinstance(model, RandomForestRegressor):\n",
    "        param_grid = {\n",
    "            'n_estimators': [50,100],\n",
    "            'max_depth': [10, 20],\n",
    "            'min_samples_split': [2]\n",
    "        }\n",
    "    elif isinstance(model, GradientBoostingRegressor):\n",
    "        param_grid = {\n",
    "            'n_estimators': [50,100],\n",
    "            'max_depth': [10, 20],\n",
    "            'learning_rate': [0.01,0.1]\n",
    "        }\n",
    "    elif isinstance(model, DecisionTreeRegressor):\n",
    "        param_grid = {\n",
    "            'max_depth': [10, 20],\n",
    "            'min_samples_split': [2,5]\n",
    "        }\n",
    "\n",
    "    grid_search = GridSearchCV(model, param_grid, cv=3, scoring='neg_mean_absolute_error', n_jobs=-1)\n",
    "    grid_search.fit(X_train, y_train)\n",
    "    \n",
    "    # Best model\n",
    "    return grid_search.best_estimator_"
   ]
  },
  {
   "cell_type": "code",
   "execution_count": 11,
   "id": "404de5a7",
   "metadata": {},
   "outputs": [],
   "source": [
    "def evaluate(models, X_test, y_test):\n",
    "    for name, model in models.items():\n",
    "        model_tuned = hyperparameter_tuning(model)\n",
    "        y_pred_best = model_tuned.predict(X_test)\n",
    "        RMSE_best = np.sqrt(mean_squared_error(y_test,y_pred_best))\n",
    "        print(f'{name} Best Model Test RMSE: {RMSE_best}.')"
   ]
  },
  {
   "cell_type": "code",
   "execution_count": 19,
   "id": "71ce738f",
   "metadata": {},
   "outputs": [],
   "source": [
    "def saving(model,scaler,imputer):\n",
    "    import pickle as pkl\n",
    "    pkl.dump(model, open(\"C:/Users/DELL/Desktop/Jupyter files/New folder/model_\"  + model.__class__.__name__ + '.pkl', 'wb'))\n",
    "    pkl.dump(scaler, open('C:/Users/DELL/Desktop/Jupyter files/New folder/scaler.pkl', 'wb'))\n",
    "    pkl.dump(imputer, open('C:/Users/DELL/Desktop/Jupyter files/New folder/imputer.pkl', 'wb'))"
   ]
  },
  {
   "cell_type": "code",
   "execution_count": 13,
   "id": "a516d20c",
   "metadata": {},
   "outputs": [
    {
     "name": "stdout",
     "output_type": "stream",
     "text": [
      "RandomForest - Cross-Validation RMSE Scores: [0.67762751 0.68286661 0.69551211 0.67698837 0.6723948 ]\n",
      "RandomForest - Average Cross-Validation RMSE: 0.6810778812816629\n",
      "RandomForest trained.\n",
      "RandomForest Test RMSE: 0.6591798002801506.\n",
      "GradientBoosting - Cross-Validation RMSE Scores: [1.05546169 1.05489277 1.05905093 1.0669059  1.06396143]\n",
      "GradientBoosting - Average Cross-Validation RMSE: 1.060054543904797\n",
      "GradientBoosting trained.\n",
      "GradientBoosting Test RMSE: 1.0548149881382187.\n",
      "DecisionTreeRegressor - Cross-Validation RMSE Scores: [1.0315852  1.02592775 1.04470158 1.00549683 1.03898406]\n",
      "DecisionTreeRegressor - Average Cross-Validation RMSE: 1.0293390821745032\n",
      "DecisionTreeRegressor trained.\n",
      "DecisionTreeRegressor Test RMSE: 0.9929977324770288.\n",
      "RandomForest Best Model Test RMSE: 0.6618861596053107.\n",
      "GradientBoosting Best Model Test RMSE: 0.6179317384691561.\n",
      "DecisionTreeRegressor Best Model Test RMSE: 0.9818412689104674.\n"
     ]
    },
    {
     "ename": "NameError",
     "evalue": "name 'scaled' is not defined",
     "output_type": "error",
     "traceback": [
      "\u001b[1;31m---------------------------------------------------------------------------\u001b[0m",
      "\u001b[1;31mNameError\u001b[0m                                 Traceback (most recent call last)",
      "Cell \u001b[1;32mIn[13], line 4\u001b[0m\n\u001b[0;32m      2\u001b[0m evaluate(models, X_test, y_test)\n\u001b[0;32m      3\u001b[0m \u001b[38;5;28;01mfor\u001b[39;00m model \u001b[38;5;129;01min\u001b[39;00m models\u001b[38;5;241m.\u001b[39mvalues():\n\u001b[1;32m----> 4\u001b[0m     saving(model,scaled,imputed)\n",
      "\u001b[1;31mNameError\u001b[0m: name 'scaled' is not defined"
     ]
    }
   ],
   "source": [
    "models = training(X_train,y_train)\n",
    "evaluate(models, X_test, y_test)\n",
    "for model in models.values():\n",
    "    saving(model,scaler,imputer)"
   ]
  },
  {
   "cell_type": "code",
   "execution_count": 20,
   "id": "f68972a1",
   "metadata": {},
   "outputs": [],
   "source": [
    "for model in models.values():\n",
    "    saving(model,scaler,imputer)"
   ]
  },
  {
   "cell_type": "code",
   "execution_count": 14,
   "id": "ae9073a8",
   "metadata": {
    "scrolled": false
   },
   "outputs": [
    {
     "name": "stderr",
     "output_type": "stream",
     "text": [
      "C:\\Users\\DELL\\AppData\\Local\\Temp\\ipykernel_24428\\3192461761.py:7: SettingWithCopyWarning: \n",
      "A value is trying to be set on a copy of a slice from a DataFrame.\n",
      "Try using .loc[row_indexer,col_indexer] = value instead\n",
      "\n",
      "See the caveats in the documentation: https://pandas.pydata.org/pandas-docs/stable/user_guide/indexing.html#returning-a-view-versus-a-copy\n",
      "  X_new[feature] = 0\n"
     ]
    },
    {
     "name": "stdout",
     "output_type": "stream",
     "text": [
      "RandomForest New Data Test RMSE: 2.7527868154494706.\n",
      "GradientBoosting New Data Test RMSE: 2.2172671956450616.\n",
      "DecisionTreeRegressor New Data Test RMSE: 2.867212139425045.\n"
     ]
    }
   ],
   "source": [
    "# Testing with new dataset\n",
    "common_features = [feature for feature in features if feature in legacy.columns]\n",
    "X_new = legacy[common_features]\n",
    "   \n",
    "missing_features = list(set(features) - set(common_features))\n",
    "for feature in missing_features:\n",
    "    X_new[feature] = 0\n",
    "    \n",
    "X_new = X_new[features]\n",
    "X_new_scaled = scaler.transform(X_new)\n",
    "X_new_imputed = imputer.transform(X_new_scaled)\n",
    "y_new = legacy['overall']\n",
    "\n",
    "for name, model in models.items():\n",
    "    y_pred_new = model.predict(X_new_imputed)\n",
    "    RMSE_new = np.sqrt(mean_squared_error(y_new, y_pred_new))\n",
    "    print(f'{name} New Data Test RMSE: {RMSE_new}.')"
   ]
  },
  {
   "cell_type": "code",
   "execution_count": null,
   "id": "328d7238",
   "metadata": {},
   "outputs": [],
   "source": []
  }
 ],
 "metadata": {
  "kernelspec": {
   "display_name": "Python 3 (ipykernel)",
   "language": "python",
   "name": "python3"
  },
  "language_info": {
   "codemirror_mode": {
    "name": "ipython",
    "version": 3
   },
   "file_extension": ".py",
   "mimetype": "text/x-python",
   "name": "python",
   "nbconvert_exporter": "python",
   "pygments_lexer": "ipython3",
   "version": "3.11.7"
  }
 },
 "nbformat": 4,
 "nbformat_minor": 5
}
